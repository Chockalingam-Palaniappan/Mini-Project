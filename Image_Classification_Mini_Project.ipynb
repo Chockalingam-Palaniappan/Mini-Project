{
  "nbformat": 4,
  "nbformat_minor": 0,
  "metadata": {
    "colab": {
      "name": "Image Classification Mini Project.ipynb",
      "provenance": [],
      "collapsed_sections": [],
      "authorship_tag": "ABX9TyPiqzVEa9yqJBItjacPtWWj",
      "include_colab_link": true
    },
    "kernelspec": {
      "name": "python3",
      "display_name": "Python 3"
    },
    "language_info": {
      "name": "python"
    }
  },
  "cells": [
    {
      "cell_type": "markdown",
      "metadata": {
        "id": "view-in-github",
        "colab_type": "text"
      },
      "source": [
        "<a href=\"https://colab.research.google.com/github/Chockalingam-Palaniappan/Mini-Project/blob/main/Image_Classification_Mini_Project.ipynb\" target=\"_parent\"><img src=\"https://colab.research.google.com/assets/colab-badge.svg\" alt=\"Open In Colab\"/></a>"
      ]
    },
    {
      "cell_type": "code",
      "metadata": {
        "colab": {
          "base_uri": "https://localhost:8080/"
        },
        "id": "ZJHZWcqaZDSY",
        "outputId": "e81c941a-d26b-409e-a0d4-a2f27989bb48"
      },
      "source": [
        "!pip install bing-image-downloader"
      ],
      "execution_count": 15,
      "outputs": [
        {
          "output_type": "stream",
          "text": [
            "Requirement already satisfied: bing-image-downloader in /usr/local/lib/python3.7/dist-packages (1.0.4)\n"
          ],
          "name": "stdout"
        }
      ]
    },
    {
      "cell_type": "code",
      "metadata": {
        "colab": {
          "base_uri": "https://localhost:8080/"
        },
        "id": "jV_B4zjeencs",
        "outputId": "62e91521-a643-43c6-ffda-4762bde27a6c"
      },
      "source": [
        "!mkdir images"
      ],
      "execution_count": 16,
      "outputs": [
        {
          "output_type": "stream",
          "text": [
            "mkdir: cannot create directory ‘images’: File exists\n"
          ],
          "name": "stdout"
        }
      ]
    },
    {
      "cell_type": "code",
      "metadata": {
        "colab": {
          "base_uri": "https://localhost:8080/"
        },
        "id": "Tab9Tz6rp-az",
        "outputId": "f803aeff-9804-49f6-f723-546d9b365dde"
      },
      "source": [
        "from bing_image_downloader import downloader\n",
        "downloader.download(\"cricket ball png\",limit=30,output_dir='images',adult_filter_off=True)"
      ],
      "execution_count": 17,
      "outputs": [
        {
          "output_type": "stream",
          "text": [
            "\n",
            "\n",
            "[!!]Indexing page: 1\n",
            "\n",
            "[%] Indexed 12 Images on Page 1.\n",
            "\n",
            "===============================================\n",
            "\n",
            "[%] Downloading Image #1 from https://www.clker.com/cliparts/B/R/j/m/O/c/cricket-ball-hi.png\n",
            "[%] File Downloaded !\n",
            "\n",
            "[%] Downloading Image #2 from https://1.bp.blogspot.com/-f005LZGFppo/WKVaF6TEsOI/AAAAAAAAA5E/-rBf4A6WqXA0o1XbzcjH1VFzSMPeUvSigCLcB/w1200-h630-p-k-no-nu/dscs.png\n",
            "[%] File Downloaded !\n",
            "\n",
            "[%] Downloading Image #3 from https://pngimg.com/uploads/cricket/cricket_PNG10.png\n",
            "[!] Issue getting: https://pngimg.com/uploads/cricket/cricket_PNG10.png\n",
            "[!] Error:: HTTP Error 526: Origin SSL Certificate Error\n",
            "[%] Downloading Image #3 from https://media.sportplan.net/viewer/movies/cricket/thumbs/CA000003.png\n",
            "[%] File Downloaded !\n",
            "\n",
            "[%] Downloading Image #4 from http://www.pngall.com/wp-content/uploads/2016/03/Roman-Reigns-Body-PNG.png\n",
            "[%] File Downloaded !\n",
            "\n",
            "[%] Downloading Image #5 from https://vignette.wikia.nocookie.net/object-filler/images/b/be/OFA_UNREGISTERED_HYPERCAM_2.png/revision/latest?cb=20190212010824\n",
            "[%] File Downloaded !\n",
            "\n",
            "[%] Downloading Image #6 from https://blog.mobilesplease.co.uk/wp-content/uploads/2013/07/cricbuzz-1.png\n",
            "[%] File Downloaded !\n",
            "\n",
            "[%] Downloading Image #7 from http://www.freeiconspng.com/uploads/disco-ball-png-16.png\n",
            "[%] File Downloaded !\n",
            "\n",
            "[%] Downloading Image #8 from https://www.clker.com/cliparts/A/N/g/s/y/d/fresh-hi.png\n",
            "[%] File Downloaded !\n",
            "\n",
            "[%] Downloading Image #9 from http://www.greatdreams.com/cricket_-_stumps.png\n",
            "[%] File Downloaded !\n",
            "\n",
            "[%] Downloading Image #10 from http://clipart-library.com/img/1921182.png\n",
            "[%] File Downloaded !\n",
            "\n",
            "[%] Downloading Image #11 from https://www.clker.com/cliparts/m/Y/c/g/V/2/girl-playing-hockey-hi.png\n",
            "[%] File Downloaded !\n",
            "\n",
            "\n",
            "\n",
            "[!!]Indexing page: 2\n",
            "\n",
            "[%] Indexed 12 Images on Page 2.\n",
            "\n",
            "===============================================\n",
            "\n",
            "[%] Downloading Image #12 from http://energiefitnessshop.com/wp-content/uploads/2017/12/Cricket_Ball_PNG_Clipart_Picture.png\n",
            "[%] File Downloaded !\n",
            "\n",
            "[%] Downloading Image #13 from https://pngimg.com/uploads/cricket/cricket_PNG4.png\n",
            "[!] Issue getting: https://pngimg.com/uploads/cricket/cricket_PNG4.png\n",
            "[!] Error:: HTTP Error 526: Origin SSL Certificate Error\n",
            "[%] Downloading Image #13 from https://www.transparentpng.com/thumb/cricket-ball/wysXED-cricket-ball-background.png\n",
            "[%] File Downloaded !\n",
            "\n",
            "[%] Downloading Image #14 from https://pngimg.com/uploads/cricket/cricket_PNG10.png\n",
            "[!] Issue getting: https://pngimg.com/uploads/cricket/cricket_PNG10.png\n",
            "[!] Error:: HTTP Error 526: Origin SSL Certificate Error\n",
            "[%] Downloading Image #14 from https://www.clker.com/cliparts/y/B/J/0/D/p/balls-hi.png\n",
            "[%] File Downloaded !\n",
            "\n",
            "[%] Downloading Image #15 from https://clipartart.com/images/sri-lanka-cricket-logo-clipart-3.png\n",
            "[%] File Downloaded !\n",
            "\n",
            "[%] Downloading Image #16 from http://www.theappguruz.com/app/uploads/2015/06/cricket-live-score-02.png\n",
            "[%] File Downloaded !\n",
            "\n",
            "[%] Downloading Image #17 from https://static.wixstatic.com/media/0bf89e_a8bb3c227c4b4e86bcedd355bde12bac~mv2.png/v1/fill/w_976,h_539,al_c/0bf89e_a8bb3c227c4b4e86bcedd355bde12bac~mv2.png\n",
            "[%] File Downloaded !\n",
            "\n",
            "[%] Downloading Image #18 from https://clipartart.com/images/mardi-gras-mask-black-and-white-clipart-7.jpg\n",
            "[%] File Downloaded !\n",
            "\n",
            "[%] Downloading Image #19 from https://www.drodd.com/images14/white8.png\n",
            "[%] File Downloaded !\n",
            "\n",
            "[%] Downloading Image #20 from https://www.bigw.com.au/medias/sys_master/images/images/ha4/h31/13377961492510.jpg\n",
            "[%] File Downloaded !\n",
            "\n",
            "[%] Downloading Image #21 from https://clipartart.com/images/asian-girl-hugging-dog-clipart-8.jpg\n",
            "[%] File Downloaded !\n",
            "\n",
            "\n",
            "\n",
            "[!!]Indexing page: 3\n",
            "\n",
            "[%] Indexed 11 Images on Page 3.\n",
            "\n",
            "===============================================\n",
            "\n",
            "[%] Downloading Image #22 from https://pngimg.com/uploads/cricket/cricket_PNG4.png\n",
            "[!] Issue getting: https://pngimg.com/uploads/cricket/cricket_PNG4.png\n",
            "[!] Error:: HTTP Error 526: Origin SSL Certificate Error\n",
            "[%] Downloading Image #22 from https://www.transparentpng.com/thumb/cricket-ball/wysXED-cricket-ball-background.png\n",
            "[%] File Downloaded !\n",
            "\n",
            "[%] Downloading Image #23 from https://pngimg.com/uploads/cricket/cricket_PNG10.png\n",
            "[!] Issue getting: https://pngimg.com/uploads/cricket/cricket_PNG10.png\n",
            "[!] Error:: HTTP Error 526: Origin SSL Certificate Error\n",
            "[%] Downloading Image #23 from https://www.clker.com/cliparts/y/B/J/0/D/p/balls-hi.png\n",
            "[%] File Downloaded !\n",
            "\n",
            "[%] Downloading Image #24 from https://clipartart.com/images/sri-lanka-cricket-logo-clipart-3.png\n",
            "[%] File Downloaded !\n",
            "\n",
            "[%] Downloading Image #25 from http://www.theappguruz.com/app/uploads/2015/06/cricket-live-score-02.png\n",
            "[%] File Downloaded !\n",
            "\n",
            "[%] Downloading Image #26 from https://static.wixstatic.com/media/0bf89e_a8bb3c227c4b4e86bcedd355bde12bac~mv2.png/v1/fill/w_976,h_539,al_c/0bf89e_a8bb3c227c4b4e86bcedd355bde12bac~mv2.png\n",
            "[%] File Downloaded !\n",
            "\n",
            "[%] Downloading Image #27 from https://clipartart.com/images/mardi-gras-mask-black-and-white-clipart-7.jpg\n",
            "[%] File Downloaded !\n",
            "\n",
            "[%] Downloading Image #28 from https://www.drodd.com/images14/white8.png\n",
            "[%] File Downloaded !\n",
            "\n",
            "[%] Downloading Image #29 from https://www.bigw.com.au/medias/sys_master/images/images/ha4/h31/13377961492510.jpg\n",
            "[%] File Downloaded !\n",
            "\n",
            "[%] Downloading Image #30 from https://clipartart.com/images/asian-girl-hugging-dog-clipart-8.jpg\n",
            "[%] File Downloaded !\n",
            "\n"
          ],
          "name": "stdout"
        }
      ]
    },
    {
      "cell_type": "code",
      "metadata": {
        "colab": {
          "base_uri": "https://localhost:8080/"
        },
        "id": "UYjqk3Xdq8NQ",
        "outputId": "69a254a2-5370-421d-bc7a-c5d2d1098f8b"
      },
      "source": [
        "from bing_image_downloader import downloader\n",
        "downloader.download(\"vintage leather rugby ball\",limit=30,output_dir='images',adult_filter_off=True)"
      ],
      "execution_count": 18,
      "outputs": [
        {
          "output_type": "stream",
          "text": [
            "\n",
            "\n",
            "[!!]Indexing page: 1\n",
            "\n",
            "[%] Indexed 12 Images on Page 1.\n",
            "\n",
            "===============================================\n",
            "\n",
            "[%] Downloading Image #1 from http://i.ebayimg.com/images/i/191644837032-0-1/s-l1000.jpg\n",
            "[%] File Downloaded !\n",
            "\n",
            "[%] Downloading Image #2 from https://a.1stdibscdn.com/original-vintage-leather-rugby-ball-with-6-panels-for-sale/1121189/f_161686811571203319261/16168681_master.jpg?width=768\n",
            "[%] File Downloaded !\n",
            "\n",
            "[%] Downloading Image #3 from https://www.john-woodbridge.com/1035-tm_thickbox_default/1940s-rugby-ball.jpg\n",
            "[%] File Downloaded !\n",
            "\n",
            "[%] Downloading Image #4 from http://www.asdiansi.com/old-rugbyball.jpg\n",
            "[%] File Downloaded !\n",
            "\n",
            "[%] Downloading Image #5 from https://www.colonialsoldier.com/img/1702-038.JPG\n",
            "[%] File Downloaded !\n",
            "\n",
            "[%] Downloading Image #6 from https://asdiansi.com/afl-7.jpg\n",
            "[%] File Downloaded !\n",
            "\n",
            "[%] Downloading Image #7 from http://img.bidorbuy.co.za/image/upload/v1482472257/user_images/485/790485/161223075016_IMG_0364.jpg\n",
            "[%] File Downloaded !\n",
            "\n",
            "[%] Downloading Image #8 from http://cdn.shopify.com/s/files/1/0788/5979/products/mvp-leather-balls-heritage-leather-t-soccer-ball-1_1024x1024.jpg?v=1554719760\n",
            "[%] File Downloaded !\n",
            "\n",
            "[%] Downloading Image #9 from https://www.john-woodbridge.com/1009-tm_large_default/1930s-football.jpg\n",
            "[%] File Downloaded !\n",
            "\n",
            "[%] Downloading Image #10 from http://cdn.shopify.com/s/files/1/0020/1025/1324/products/t_ball2_1024x.png?v=1538426818\n",
            "[%] File Downloaded !\n",
            "\n",
            "[%] Downloading Image #11 from http://cdn.shopify.com/s/files/1/0788/5979/products/mvp-leather-balls-heritage-leather-football-2_1024x1024.jpg?v=1550134802\n",
            "[%] File Downloaded !\n",
            "\n",
            "[%] Downloading Image #12 from http://vector.me/files/images/2/3/232106/rugby_ball.jpg\n",
            "[%] File Downloaded !\n",
            "\n",
            "\n",
            "\n",
            "[!!]Indexing page: 2\n",
            "\n",
            "[%] Indexed 12 Images on Page 2.\n",
            "\n",
            "===============================================\n",
            "\n",
            "[%] Downloading Image #13 from http://kathykuohome.com/Content/config/product/primary/zoom/product_4496.jpg\n",
            "[%] File Downloaded !\n",
            "\n",
            "[%] Downloading Image #14 from https://img1.etsystatic.com/013/0/7864717/il_570xN.431074825_ewio.jpg\n",
            "[Error]Invalid image, not saving https://img1.etsystatic.com/013/0/7864717/il_570xN.431074825_ewio.jpg\n",
            "\n",
            "[!] Issue getting: https://img1.etsystatic.com/013/0/7864717/il_570xN.431074825_ewio.jpg\n",
            "[!] Error:: No active exception to reraise\n",
            "[%] Downloading Image #14 from http://www.kraveantiques.co.uk/images/products/Rugby-Ball-195-2.jpg\n",
            "[%] File Downloaded !\n",
            "\n",
            "[%] Downloading Image #15 from https://www.webbellisrugby.co.uk/wp-content/uploads/2016/04/leather-rugby-ball-puntabout.jpg\n",
            "[%] File Downloaded !\n",
            "\n",
            "[%] Downloading Image #16 from https://www.somethingsporty.com/online/images/source/_JMP0871.jpg\n",
            "[!] Issue getting: https://www.somethingsporty.com/online/images/source/_JMP0871.jpg\n",
            "[!] Error:: <urlopen error [Errno -3] Temporary failure in name resolution>\n",
            "[%] Downloading Image #16 from https://sc01.alicdn.com/kf/U6d3c8f99026b4f5c86ffa4c3a7eed2fcL/1096099/U6d3c8f99026b4f5c86ffa4c3a7eed2fcL.jpg\n",
            "[%] File Downloaded !\n",
            "\n",
            "[%] Downloading Image #17 from http://thumbs.dreamstime.com/z/brown-leather-football-happy-smile-smiling-face-second-ball-no-face-41270079.jpg\n",
            "[%] File Downloaded !\n",
            "\n",
            "[%] Downloading Image #18 from https://static.vecteezy.com/system/resources/previews/000/122/946/non_2x/vector-american-football-ball-texture.jpg\n",
            "[%] File Downloaded !\n",
            "\n",
            "[%] Downloading Image #19 from https://cdn.shopify.com/s/files/1/0788/5979/products/Exec_PB_1d_grande.jpg?v=1575753429\n",
            "[%] File Downloaded !\n",
            "\n",
            "[%] Downloading Image #20 from https://thumb1.shutterstock.com/display_pic_with_logo/493324/378758680/stock-vector-football-boots-sketch-style-vector-illustration-old-engraving-imitation-football-boots-hand-drawn-378758680.jpg\n",
            "[Error]Invalid image, not saving https://thumb1.shutterstock.com/display_pic_with_logo/493324/378758680/stock-vector-football-boots-sketch-style-vector-illustration-old-engraving-imitation-football-boots-hand-drawn-378758680.jpg\n",
            "\n",
            "[!] Issue getting: https://thumb1.shutterstock.com/display_pic_with_logo/493324/378758680/stock-vector-football-boots-sketch-style-vector-illustration-old-engraving-imitation-football-boots-hand-drawn-378758680.jpg\n",
            "[!] Error:: No active exception to reraise\n",
            "[%] Downloading Image #20 from http://cdn.notonthehighstreet.com/system/product_images/images/000/385/177/original_CF017357.jpg\n",
            "[%] File Downloaded !\n",
            "\n",
            "[%] Downloading Image #21 from https://cdn.shopify.com/s/files/1/0020/1025/1324/products/holywood_retro_ball_cap_1024x1024.jpg?v=1563155622\n",
            "[%] File Downloaded !\n",
            "\n",
            "\n",
            "\n",
            "[!!]Indexing page: 3\n",
            "\n",
            "[%] Indexed 11 Images on Page 3.\n",
            "\n",
            "===============================================\n",
            "\n",
            "[%] Downloading Image #22 from https://img1.etsystatic.com/013/0/7864717/il_570xN.431074825_ewio.jpg\n",
            "[Error]Invalid image, not saving https://img1.etsystatic.com/013/0/7864717/il_570xN.431074825_ewio.jpg\n",
            "\n",
            "[!] Issue getting: https://img1.etsystatic.com/013/0/7864717/il_570xN.431074825_ewio.jpg\n",
            "[!] Error:: No active exception to reraise\n",
            "[%] Downloading Image #22 from http://www.kraveantiques.co.uk/images/products/Rugby-Ball-195-2.jpg\n",
            "[%] File Downloaded !\n",
            "\n",
            "[%] Downloading Image #23 from https://www.webbellisrugby.co.uk/wp-content/uploads/2016/04/leather-rugby-ball-puntabout.jpg\n",
            "[%] File Downloaded !\n",
            "\n",
            "[%] Downloading Image #24 from https://www.somethingsporty.com/online/images/source/_JMP0871.jpg\n",
            "[!] Issue getting: https://www.somethingsporty.com/online/images/source/_JMP0871.jpg\n",
            "[!] Error:: <urlopen error [Errno -3] Temporary failure in name resolution>\n",
            "[%] Downloading Image #24 from https://sc01.alicdn.com/kf/U6d3c8f99026b4f5c86ffa4c3a7eed2fcL/1096099/U6d3c8f99026b4f5c86ffa4c3a7eed2fcL.jpg\n",
            "[%] File Downloaded !\n",
            "\n",
            "[%] Downloading Image #25 from http://thumbs.dreamstime.com/z/brown-leather-football-happy-smile-smiling-face-second-ball-no-face-41270079.jpg\n",
            "[%] File Downloaded !\n",
            "\n",
            "[%] Downloading Image #26 from https://static.vecteezy.com/system/resources/previews/000/122/946/non_2x/vector-american-football-ball-texture.jpg\n",
            "[%] File Downloaded !\n",
            "\n",
            "[%] Downloading Image #27 from https://cdn.shopify.com/s/files/1/0788/5979/products/Exec_PB_1d_grande.jpg?v=1575753429\n",
            "[%] File Downloaded !\n",
            "\n",
            "[%] Downloading Image #28 from https://thumb1.shutterstock.com/display_pic_with_logo/493324/378758680/stock-vector-football-boots-sketch-style-vector-illustration-old-engraving-imitation-football-boots-hand-drawn-378758680.jpg\n",
            "[Error]Invalid image, not saving https://thumb1.shutterstock.com/display_pic_with_logo/493324/378758680/stock-vector-football-boots-sketch-style-vector-illustration-old-engraving-imitation-football-boots-hand-drawn-378758680.jpg\n",
            "\n",
            "[!] Issue getting: https://thumb1.shutterstock.com/display_pic_with_logo/493324/378758680/stock-vector-football-boots-sketch-style-vector-illustration-old-engraving-imitation-football-boots-hand-drawn-378758680.jpg\n",
            "[!] Error:: No active exception to reraise\n",
            "[%] Downloading Image #28 from http://cdn.notonthehighstreet.com/system/product_images/images/000/385/177/original_CF017357.jpg\n",
            "[%] File Downloaded !\n",
            "\n",
            "[%] Downloading Image #29 from https://cdn.shopify.com/s/files/1/0020/1025/1324/products/holywood_retro_ball_cap_1024x1024.jpg?v=1563155622\n",
            "[%] File Downloaded !\n",
            "\n",
            "\n",
            "\n",
            "[!!]Indexing page: 4\n",
            "\n",
            "[%] Indexed 10 Images on Page 4.\n",
            "\n",
            "===============================================\n",
            "\n",
            "[%] Downloading Image #30 from http://www.kraveantiques.co.uk/images/products/Rugby-Ball-195-2.jpg\n",
            "[%] File Downloaded !\n",
            "\n",
            "\n",
            "\n",
            "[%] Done. Downloaded 30 images.\n",
            "\n",
            "===============================================\n",
            "\n"
          ],
          "name": "stdout"
        }
      ]
    },
    {
      "cell_type": "code",
      "metadata": {
        "id": "OKD212u429Ct"
      },
      "source": [
        "import os\n",
        "import matplotlib.pyplot as plt\n",
        "import numpy as np\n",
        "from skimage.io import imread\n",
        "from skimage.transform import resize\n",
        "target=[]\n",
        "images=[]\n",
        "flat_data=[]\n",
        " \n",
        "DATADIR='/content/images'\n",
        "CATEGORIES = ['cricket ball png','vintage leather rugby ball']\n",
        " \n",
        "for category in CATEGORIES:\n",
        "  class_num = CATEGORIES.index(category)\n",
        "  path=os.path.join(DATADIR,category)\n",
        "  for img in os.listdir(path):\n",
        "    img_array=imread(os.path.join(path,img))\n",
        "    img_resized = resize(img_array,(150,150,3))\n",
        "    flat_data.append(img_resized.flatten())\n",
        "    images.append(img_resized)\n",
        "    target.append(class_num)\n",
        "     \n",
        "flat_data=np.array(flat_data)\n",
        "target=np.array(target)\n",
        "images=np.array(images)\n"
      ],
      "execution_count": 19,
      "outputs": []
    },
    {
      "cell_type": "code",
      "metadata": {
        "id": "FnaGEikeECQD"
      },
      "source": [
        "from sklearn.model_selection import train_test_split\n",
        "x_train,x_test,y_train,y_test = train_test_split(flat_data,target,test_size=0.3, \n",
        "                                                 random_state=100)"
      ],
      "execution_count": 20,
      "outputs": []
    },
    {
      "cell_type": "code",
      "metadata": {
        "colab": {
          "base_uri": "https://localhost:8080/"
        },
        "id": "5NrQIONBEuxe",
        "outputId": "6f755006-6531-42b6-b532-a30ca2cf5c51"
      },
      "source": [
        "from sklearn.model_selection import GridSearchCV\n",
        "from sklearn import svm\n",
        "param_grid = [\n",
        "              {'C':[1,10,100,1000],'kernel':['linear']},\n",
        "              {'C':[1,10,100,1000],'gamma':[0.001,0.0001],'kernel':['rbf']}\n",
        "]\n",
        "\n",
        "svc = svm.SVC(probability=True)\n",
        "clf = GridSearchCV(svc,param_grid)\n",
        "clf.fit(x_train,y_train)"
      ],
      "execution_count": 21,
      "outputs": [
        {
          "output_type": "execute_result",
          "data": {
            "text/plain": [
              "GridSearchCV(cv=None, error_score=nan,\n",
              "             estimator=SVC(C=1.0, break_ties=False, cache_size=200,\n",
              "                           class_weight=None, coef0=0.0,\n",
              "                           decision_function_shape='ovr', degree=3,\n",
              "                           gamma='scale', kernel='rbf', max_iter=-1,\n",
              "                           probability=True, random_state=None, shrinking=True,\n",
              "                           tol=0.001, verbose=False),\n",
              "             iid='deprecated', n_jobs=None,\n",
              "             param_grid=[{'C': [1, 10, 100, 1000], 'kernel': ['linear']},\n",
              "                         {'C': [1, 10, 100, 1000], 'gamma': [0.001, 0.0001],\n",
              "                          'kernel': ['rbf']}],\n",
              "             pre_dispatch='2*n_jobs', refit=True, return_train_score=False,\n",
              "             scoring=None, verbose=0)"
            ]
          },
          "metadata": {
            "tags": []
          },
          "execution_count": 21
        }
      ]
    },
    {
      "cell_type": "code",
      "metadata": {
        "id": "KDnLRLhBPOSM"
      },
      "source": [
        "y_pred = clf.predict(x_test)\n",
        "from sklearn.metrics import accuracy_score,confusion_matrix"
      ],
      "execution_count": 22,
      "outputs": []
    },
    {
      "cell_type": "code",
      "metadata": {
        "colab": {
          "base_uri": "https://localhost:8080/"
        },
        "id": "9vAk925MPVzS",
        "outputId": "2547fc30-04a7-4d14-bd0b-2fd046dafc9d"
      },
      "source": [
        "accuracy_score(y_pred,y_test)"
      ],
      "execution_count": 23,
      "outputs": [
        {
          "output_type": "execute_result",
          "data": {
            "text/plain": [
              "1.0"
            ]
          },
          "metadata": {
            "tags": []
          },
          "execution_count": 23
        }
      ]
    },
    {
      "cell_type": "code",
      "metadata": {
        "colab": {
          "base_uri": "https://localhost:8080/"
        },
        "id": "jI1RM5YjQMqp",
        "outputId": "ae02a16d-18b7-4b4f-9155-a222911884a2"
      },
      "source": [
        " confusion_matrix(y_pred,y_test)"
      ],
      "execution_count": 24,
      "outputs": [
        {
          "output_type": "execute_result",
          "data": {
            "text/plain": [
              "array([[14,  0],\n",
              "       [ 0,  9]])"
            ]
          },
          "metadata": {
            "tags": []
          },
          "execution_count": 24
        }
      ]
    },
    {
      "cell_type": "code",
      "metadata": {
        "id": "2eAG2oTQQiQO"
      },
      "source": [
        "import pickle\n",
        "pickle.dump(clf,open('img_model.p','wb'))"
      ],
      "execution_count": 25,
      "outputs": []
    },
    {
      "cell_type": "code",
      "metadata": {
        "id": "Wiq-tcDFRZxX"
      },
      "source": [
        "model = pickle.load(open('img_model.p','rb'))"
      ],
      "execution_count": 26,
      "outputs": []
    },
    {
      "cell_type": "code",
      "metadata": {
        "colab": {
          "base_uri": "https://localhost:8080/",
          "height": 319
        },
        "id": "s1K1M99eR9Ni",
        "outputId": "39201693-a188-4de7-f830-c7867d5d97ef"
      },
      "source": [
        "flat_data = []\n",
        "url = input('Enter your URL here')\n",
        "img = imread(url)\n",
        "img_resized = resize(img,(150,150,3))\n",
        "flat_data.append(img_resized.flatten())\n",
        "flat_data = np.array(flat_data)\n",
        "print(img.shape)\n",
        "plt.imshow(img_resized)\n",
        "y_out = model.predict(flat_data)\n",
        "y_out = CATEGORIES[y_out[0]]\n",
        "if y_out in [\"cricket ball png\"]:\n",
        "  print(f' PREDICTED OUTPUT: CRICKET BALL')\n",
        "else:\n",
        "  print(f' PREDICTED OUTPUT: RUGBY BALL')"
      ],
      "execution_count": 38,
      "outputs": [
        {
          "output_type": "stream",
          "text": [
            "Enter your URL herehttps://upload.wikimedia.org/wikipedia/commons/thumb/b/b0/Cricketball.png/220px-Cricketball.png\n",
            "(220, 220, 4)\n",
            " PREDICTED OUTPUT: CRICKET BALL\n"
          ],
          "name": "stdout"
        },
        {
          "output_type": "display_data",
          "data": {
            "image/png": "[encoded data removed]",
            "text/plain": [
              "<Figure size 432x288 with 1 Axes>"
            ]
          },
          "metadata": {
            "tags": [],
            "needs_background": "light"
          }
        }
      ]
    }
  ]
}